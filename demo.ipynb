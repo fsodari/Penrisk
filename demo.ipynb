{
 "cells": [
  {
   "cell_type": "code",
   "execution_count": 118,
   "metadata": {},
   "outputs": [],
   "source": [
    "import numpy as np\n",
    "from geometry import centroid, conjugate, translate, intersects, complex2cart, PSI, PSI2, Polygon\n",
    "\n",
    "from penrose import RobinsonTriangle, FatRhombus, ThinRhombus, remove_dupes, make_svg, write_svg, create_tiling\n",
    "from penrose import inflate, find_minmax, find_minmaxv, is_in_box, create_penrose_rhombus, create_mask\n",
    "import cv2\n",
    "from pathlib import Path\n",
    "from matplotlib import pyplot as plt\n",
    "%reload_ext autoreload\n",
    "%autoreload 2"
   ]
  },
  {
   "cell_type": "code",
   "execution_count": 119,
   "metadata": {},
   "outputs": [],
   "source": [
    "from IPython.display import SVG, display\n",
    "def show_svg(path:Path):\n",
    "    display(SVG(path))"
   ]
  },
  {
   "cell_type": "code",
   "execution_count": 128,
   "metadata": {},
   "outputs": [],
   "source": [
    "image = cv2.imread(\"map.png\", cv2.IMREAD_UNCHANGED)\n",
    "# plt.imshow(image)\n",
    "# plt.show()"
   ]
  },
  {
   "cell_type": "markdown",
   "metadata": {},
   "source": [
    "![title](map.png)"
   ]
  },
  {
   "cell_type": "code",
   "execution_count": 121,
   "metadata": {},
   "outputs": [],
   "source": [
    "# Generate a set of tiles that have the given side length\n",
    "# This will iterate until the set of tiles completely covers the input image.\n",
    "side_length = 42\n",
    "N = 16\n",
    "\n",
    "tiling = create_tiling(side_length, image, max_n=N)"
   ]
  },
  {
   "cell_type": "code",
   "execution_count": 122,
   "metadata": {},
   "outputs": [],
   "source": [
    "# Make svg\n",
    "svg = make_svg(\n",
    "    tiling,\n",
    "    stroke_width=0.1\n",
    ")\n",
    "write_svg(svg, Path(\"all_tiles.svg\"))\n",
    "# show_svg(Path(\"all_tiles.svg\"))"
   ]
  },
  {
   "cell_type": "markdown",
   "metadata": {},
   "source": [
    "![title](all_tiles.svg)"
   ]
  },
  {
   "cell_type": "code",
   "execution_count": 129,
   "metadata": {},
   "outputs": [
    {
     "data": {
      "text/plain": [
       "True"
      ]
     },
     "execution_count": 129,
     "metadata": {},
     "output_type": "execute_result"
    }
   ],
   "source": [
    "tile = tiling[int(len(tiling)/2)]\n",
    "mask = create_mask(tile, image)\n",
    "cv2.imwrite(\"mask.png\", mask)\n",
    "\n",
    "masked_image = cv2.bitwise_and(image, mask)\n",
    "\n",
    "cv2.imwrite(\"masked.png\", masked_image)"
   ]
  },
  {
   "cell_type": "markdown",
   "metadata": {},
   "source": [
    "![title](masked.png)"
   ]
  },
  {
   "cell_type": "code",
   "execution_count": null,
   "metadata": {},
   "outputs": [],
   "source": []
  }
 ],
 "metadata": {
  "interpreter": {
   "hash": "ea540beca4147be839361c28a55863430a7ecf85668e8f2c25bd8a27ee8c0d29"
  },
  "kernelspec": {
   "display_name": "Python 3.10.4 ('.venv': venv)",
   "language": "python",
   "name": "python3"
  },
  "language_info": {
   "codemirror_mode": {
    "name": "ipython",
    "version": 3
   },
   "file_extension": ".py",
   "mimetype": "text/x-python",
   "name": "python",
   "nbconvert_exporter": "python",
   "pygments_lexer": "ipython3",
   "version": "3.10.2"
  },
  "orig_nbformat": 4
 },
 "nbformat": 4,
 "nbformat_minor": 2
}
