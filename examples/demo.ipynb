{
 "cells": [
  {
   "cell_type": "code",
   "execution_count": 67,
   "metadata": {},
   "outputs": [],
   "source": [
    "import numpy as np\n",
    "# from geometry import centroid, conjugate, translate, intersects, complex2cart, PSI, PSI2, Polygon\n",
    "\n",
    "from penrisk.penrose import RobinsonTriangle, FatRhombus, ThinRhombus, make_svg, write_svg, create_tiling\n",
    "from penrisk.penrose import create_penrose_rhombus, overlay_tiles\n",
    "from penrisk.image_proc import create_mask\n",
    "from penrisk.geometry import centroid, isclose\n",
    "\n",
    "import cv2\n",
    "from pathlib import Path\n",
    "from matplotlib import pyplot as plt\n",
    "%reload_ext autoreload\n",
    "%autoreload 2"
   ]
  },
  {
   "cell_type": "code",
   "execution_count": 74,
   "metadata": {},
   "outputs": [
    {
     "name": "stdout",
     "output_type": "stream",
     "text": [
      "124\n"
     ]
    }
   ],
   "source": [
    "source_image = \"dream_widow.jpg\"\n",
    "source_image = \"map.png\"\n",
    "# Generate a set of tiles that have the given side length\n",
    "# This will iterate until the set of tiles completely covers the input image.\n",
    "image = cv2.imread(source_image, cv2.IMREAD_COLOR)\n",
    "# if image.shape[2] < 4:\n",
    "# image = cv2.cvtColor(image, cv2.COLOR_BGR2RGB)\n",
    "side_length = 90\n",
    "N = 16\n",
    "\n",
    "tiling = create_tiling(side_length, image.shape, N)\n",
    "\n",
    "# Overlay the tiles onto the image.\n",
    "overlay_tiles(tiling, image, \"tiled.png\", stroke_width=1)\n",
    "print(len(tiling))\n",
    "svg = make_svg(tiling, stroke_width=1.5)\n",
    "write_svg(svg, \"tiling.svg\")"
   ]
  },
  {
   "cell_type": "code",
   "execution_count": null,
   "metadata": {},
   "outputs": [],
   "source": []
  },
  {
   "cell_type": "code",
   "execution_count": 69,
   "metadata": {},
   "outputs": [],
   "source": [
    "# tile = tiling[20]\n",
    "\n",
    "# mask = create_mask(tile, image)\n",
    "# cv2.imwrite(\"mask.png\", mask)\n",
    "\n",
    "# masked_image = cv2.bitwise_and(image, mask)\n",
    "\n",
    "# cv2.imwrite(\"masked.png\", masked_image)\n",
    "# plt.imshow(masked_image)\n",
    "# plt.show()"
   ]
  },
  {
   "cell_type": "markdown",
   "metadata": {},
   "source": []
  }
 ],
 "metadata": {
  "interpreter": {
   "hash": "3962fabe6426120de80210cff4a1fc2bd75ac013393f32a211f7d7cb31177f27"
  },
  "kernelspec": {
   "display_name": "Python 3.10.2 ('.venv': venv)",
   "language": "python",
   "name": "python3"
  },
  "language_info": {
   "codemirror_mode": {
    "name": "ipython",
    "version": 3
   },
   "file_extension": ".py",
   "mimetype": "text/x-python",
   "name": "python",
   "nbconvert_exporter": "python",
   "pygments_lexer": "ipython3",
   "version": "3.10.2"
  },
  "orig_nbformat": 4
 },
 "nbformat": 4,
 "nbformat_minor": 2
}
